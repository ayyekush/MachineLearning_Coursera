{
 "cells": [
  {
   "cell_type": "markdown",
   "metadata": {},
   "source": [
    "# Intro"
   ]
  },
  {
   "cell_type": "markdown",
   "metadata": {},
   "source": [
    "## Terminologies"
   ]
  },
  {
   "cell_type": "markdown",
   "metadata": {},
   "source": [
    "1. (x)input or feature variable in training set is like size of the house \n",
    "2. (y)output or target variable is like the price of the house which we are trying\n",
    "    to map and predict\n",
    "3. (m)total no of sets((x,y)) in training set\n",
    "4. the function that the program generate to predict is called a model\n",
    "5. (y^) is the predicted value of y upon a given x\n",
    "6. (n)total no. of features(x1,x2 etc)\n",
    "7. (w & b) weights and bias\n",
    "8. (epoch) generally used variable to limit the no of time gradient decent should run. this limit ofc decrease efficiency but increase speed."
   ]
  },
  {
   "cell_type": "markdown",
   "metadata": {},
   "source": [
    "## Supervised Learning"
   ]
  },
  {
   "cell_type": "markdown",
   "metadata": {},
   "source": [
    "In this learning we give data with answers to learn from like age vs tumor size\n",
    "    for malignant or benign tumor to give chances its this type or that type\n",
    "1. Regression : predict a number output like from house prices graph \n",
    "             : Have infinitely many possible outcomes right(numbers)<br><br>\n",
    "2. Classification : predict a caregory. like identify if it s a dog or a cat from \n",
    "                    a picture.\n",
    "                 : have a limited no of preknown outputs(like a cat or a dog)"
   ]
  },
  {
   "cell_type": "markdown",
   "metadata": {},
   "source": [
    "## Unsupervised Learning"
   ]
  },
  {
   "cell_type": "markdown",
   "metadata": {},
   "source": [
    "We give unlabled or without answers data like age vs tumor whether it is present or not and group them<br>\n",
    "It's basically grouping\n",
    "\n",
    "1. Clustering: like training to group similar data. like google news group similar headlines together.<br><br>\n",
    "2. Anamoly detection: finding unusual datasets.<br><br>\n",
    "3. Dimentionality reduction: compress data using fewer numbers."
   ]
  },
  {
   "cell_type": "markdown",
   "metadata": {},
   "source": [
    "# NUMPY"
   ]
  },
  {
   "cell_type": "markdown",
   "metadata": {},
   "source": [
    "1. np.zeroes(2,int)===[0,0] (two rows)<br><br>\n",
    "2. np.zeroes((2,3),int)===[[0,0,0],[0,0,0]] (two rows 3 elements each)<br><br>\n",
    "3. np.zeroes_like(x)===(entire structure of x in zeroes)<br><br>"
   ]
  },
  {
   "cell_type": "markdown",
   "metadata": {},
   "source": [
    "# Visuals"
   ]
  },
  {
   "cell_type": "markdown",
   "metadata": {},
   "source": [
    "# Linear Regression\n",
    "<br><br>\n",
    "<img src=\"./lab_utils/linearRegression.png\" style=\"max-width: 600px\">"
   ]
  },
  {
   "cell_type": "markdown",
   "metadata": {},
   "source": [
    "# Cost Function\n",
    "<br><br>\n",
    "<img src=\"./lab_utils/costFunction.png\" style=\"max-width: 600px\">"
   ]
  },
  {
   "cell_type": "markdown",
   "metadata": {},
   "source": [
    "# Gradient Descent\n",
    "<br><br>\n",
    "<img src=\"./lab_utils/gradientDecent.png\" style=\"max-width: 600px\">"
   ]
  }
 ],
 "metadata": {
  "language_info": {
   "name": "python"
  }
 },
 "nbformat": 4,
 "nbformat_minor": 2
}
